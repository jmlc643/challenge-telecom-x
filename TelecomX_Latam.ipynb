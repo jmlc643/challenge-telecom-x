{
 "cells": [
  {
   "cell_type": "markdown",
   "id": "18e93084",
   "metadata": {},
   "source": [
    "# **Challenge Telecom X Latam**"
   ]
  },
  {
   "cell_type": "markdown",
   "id": "b1236092",
   "metadata": {},
   "source": [
    "Challenge del curso de Alura sobre Extracción, Transformación y Carga de los Datos."
   ]
  },
  {
   "cell_type": "markdown",
   "id": "d25d4230",
   "metadata": {},
   "source": [
    "## 📌 **Extracción**"
   ]
  },
  {
   "cell_type": "code",
   "execution_count": null,
   "id": "b500e784",
   "metadata": {},
   "outputs": [],
   "source": []
  },
  {
   "cell_type": "markdown",
   "id": "cfc0058e",
   "metadata": {},
   "source": [
    "## 🔧 **Transformación**"
   ]
  },
  {
   "cell_type": "code",
   "execution_count": null,
   "id": "f15bd944",
   "metadata": {},
   "outputs": [],
   "source": []
  },
  {
   "cell_type": "markdown",
   "id": "770786a1",
   "metadata": {},
   "source": [
    "## 📊 **Carga y análisis**"
   ]
  },
  {
   "cell_type": "code",
   "execution_count": null,
   "id": "edc8f190",
   "metadata": {},
   "outputs": [],
   "source": []
  },
  {
   "cell_type": "markdown",
   "id": "bf5d1d7e",
   "metadata": {},
   "source": [
    "## 📄**Informe final**"
   ]
  },
  {
   "cell_type": "code",
   "execution_count": null,
   "id": "8bc58c4c",
   "metadata": {},
   "outputs": [],
   "source": []
  }
 ],
 "metadata": {
  "kernelspec": {
   "display_name": "Python 3",
   "language": "python",
   "name": "python3"
  },
  "language_info": {
   "codemirror_mode": {
    "name": "ipython",
    "version": 3
   },
   "file_extension": ".py",
   "mimetype": "text/x-python",
   "name": "python",
   "nbconvert_exporter": "python",
   "pygments_lexer": "ipython3",
   "version": "3.12.3"
  }
 },
 "nbformat": 4,
 "nbformat_minor": 5
}
